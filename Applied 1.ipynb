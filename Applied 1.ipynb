{
 "cells": [
  {
   "cell_type": "markdown",
   "id": "dee6dce7-5070-4ff0-868c-63f5c84f2a9e",
   "metadata": {},
   "source": [
    "# Light Semantic Data Transformations - Applied "
   ]
  },
  {
   "cell_type": "code",
   "execution_count": 23,
   "id": "928bfe82-4777-495c-93b8-cb91b109b7da",
   "metadata": {},
   "outputs": [
    {
     "name": "stdout",
     "output_type": "stream",
     "text": [
      "Requirement already satisfied: pandas in /opt/conda/lib/python3.9/site-packages (1.4.2)\n",
      "Requirement already satisfied: pytz>=2020.1 in /opt/conda/lib/python3.9/site-packages (from pandas) (2022.1)\n",
      "Requirement already satisfied: numpy>=1.18.5 in /opt/conda/lib/python3.9/site-packages (from pandas) (1.22.4)\n",
      "Requirement already satisfied: python-dateutil>=2.8.1 in /opt/conda/lib/python3.9/site-packages (from pandas) (2.8.2)\n",
      "Requirement already satisfied: six>=1.5 in /opt/conda/lib/python3.9/site-packages (from python-dateutil>=2.8.1->pandas) (1.16.0)\n"
     ]
    }
   ],
   "source": [
    "# Let's get our dependencies\n",
    "import sys\n",
    "!{sys.executable} -m pip install pandas\n",
    "import pandas as pd\n",
    "from datetime import datetime\n",
    "\n",
    "# some constants\n",
    "DATA_FILE_PATH=\"data_US.csv\"\n",
    "DATA_FILE_PATH_DAY2=\"data_US_day2.csv\""
   ]
  },
  {
   "cell_type": "markdown",
   "id": "abbfd573-a2c5-4e42-ad03-47ceac55c506",
   "metadata": {},
   "source": [
    "## Hidden Assumptions? ##"
   ]
  },
  {
   "cell_type": "code",
   "execution_count": 10,
   "id": "35884658-4e8f-4582-b751-04229803f599",
   "metadata": {},
   "outputs": [
    {
     "name": "stdout",
     "output_type": "stream",
     "text": [
      "This is our dataframe...\n",
      "   SalesRep     LeadName\n",
      "0    James  CompanyA_US\n",
      "1    James  CompanyB_IT\n",
      "2      Eve  CompanyC_NZ\n",
      "3      Bob  CompanyD_US\n",
      "4      Eve  CompanyE_IT\n"
     ]
    }
   ],
   "source": [
    "df = pd.read_csv(DATA_FILE_PATH)\n",
    "print(\"This is our dataframe...\\n\", df.head(5))"
   ]
  },
  {
   "cell_type": "markdown",
   "id": "8d370325-3bee-4e62-b8cd-74b7e1345bda",
   "metadata": {},
   "source": [
    "**Your task**: We have a CRM system where we pull a bunch of data sets from. Here we have Sales Representatives as well as \n",
    "the names of the leads the sales reps type in by hand as you can see. The CRM team is pretty busy so they are not able to add fields to the \n",
    "system.\n",
    "\n",
    "*However, the sales reps came up with the idea of suffixing the leads with the countries of origin to be able to group them somehow. Now they\n",
    "are asking you to produce a simple report displaying the number of leads per rep per country. Let's get to it!*"
   ]
  },
  {
   "cell_type": "code",
   "execution_count": 21,
   "id": "19127bc0-eb46-4dba-8523-7c6c75ebbfc0",
   "metadata": {},
   "outputs": [
    {
     "name": "stdout",
     "output_type": "stream",
     "text": [
      "                  LeadName\n",
      "SalesRep country          \n",
      "Bob      US              2\n",
      "Eve      IT              1\n",
      "         NZ              1\n",
      "James    IT              3\n",
      "         US              2\n"
     ]
    }
   ],
   "source": [
    "## 1. Let us deduce the country of origin\n",
    "df['country'] = df['LeadName'].apply(lambda x: x[-2:])\n",
    "\n",
    "## 2. Let's do the grouping & aggregation\n",
    "print(df.groupby(by=[\"SalesRep\", \"country\"]).count())"
   ]
  },
  {
   "cell_type": "markdown",
   "id": "d68bfb88-76c9-4925-afdc-1f1515f04f4c",
   "metadata": {},
   "source": [
    "## The Problem? Let's take a look at the next day ##\n",
    "A sales rep called \"Tim\" asks you what's up with the dashboard, something looks really weird with his numbers. He needs them fixed now! Because they got some big sale reporting coming up.\n",
    "\n",
    "John is new on the data team and he's taking a look into this (he did not build the pipeline above!)."
   ]
  },
  {
   "cell_type": "code",
   "execution_count": 25,
   "id": "1ac1ab82-6474-47ba-9ad1-45492390083b",
   "metadata": {},
   "outputs": [
    {
     "name": "stdout",
     "output_type": "stream",
     "text": [
      "                  LeadName\n",
      "SalesRep country          \n",
      "Bob      US              2\n",
      "Eve      IT              1\n",
      "         NZ              1\n",
      "James    IT              3\n",
      "         US              2\n",
      "Tim      ER              1\n",
      "         yJ              1\n"
     ]
    }
   ],
   "source": [
    "df = pd.read_csv(DATA_FILE_PATH_DAY2)\n",
    "\n",
    "## 1. Let us deduce the country of origin\n",
    "df['country'] = df['LeadName'].apply(lambda x: x[-2:])\n",
    "\n",
    "## 2. Let's do the grouping & aggregation\n",
    "print(df.groupby(by=[\"SalesRep\", \"country\"]).count())"
   ]
  },
  {
   "cell_type": "markdown",
   "id": "2862b5eb-2a9e-44c6-8a55-30c86e84d7c2",
   "metadata": {},
   "source": [
    "**Transparency?**: Now John is a bit confused, indeed these don't seem like \"countries\". John takes some time to \n",
    "find the code, fix it and is off. Problem fixed right?\n",
    "\n",
    "To fix it, John has to make the deduction logic a bit more complex (splitting on the underdash and ignoring leads without them, if he's \n",
    "really helpful he uses \"no_country_suffix_detected\" as value there).\n",
    "\n",
    "**Implications**: Now, the \"country\" logic becomes more and more complex. Sounds like an important data piece, so it might be used in lots of analyses. What happens if the logic changes again? Maybe some sales reps decide to use lower caps and want that fixed, maybe some sales reps forget the underscore. If it's not John whos looking at the next problem, things will take time, and energy to fix... Especially because it will be really hard to tell where the \"country\" actually comes from."
   ]
  },
  {
   "cell_type": "code",
   "execution_count": 41,
   "id": "6a7242d6-a096-4f7b-b3d5-7ec9ff2f2180",
   "metadata": {},
   "outputs": [
    {
     "name": "stdout",
     "output_type": "stream",
     "text": [
      "                                     LeadName\n",
      "SalesRep country                             \n",
      "Bob      US                                 2\n",
      "Eve      IT                                 1\n",
      "         NZ                                 1\n",
      "James    IT                                 3\n",
      "         US                                 2\n",
      "Tim      GER                                1\n",
      "         no_country_suffix_detected         1\n"
     ]
    }
   ],
   "source": [
    "df = pd.read_csv(DATA_FILE_PATH_DAY2)\n",
    "\n",
    "## 1. Let us deduce the country of origin\n",
    "df['country'] = df['LeadName'].apply(lambda x: x[x.find('_')+1:] if x.find('_') !=-1 else \"no_country_suffix_detected\")\n",
    "\n",
    "## 2. Let's do the grouping & aggregation\n",
    "print(df.groupby(by=[\"SalesRep\", \"country\"]).count())"
   ]
  },
  {
   "cell_type": "markdown",
   "id": "5a892cc2-f21c-4d18-bca3-c95349e1ca6e",
   "metadata": {},
   "source": [
    "## How This Can Be Improved ##\n",
    "Using the three key ideas you've learned in the first part, you might be able to improve the first pipeline. \n",
    "\n",
    "It might sounds totally trivial, but you can increase the transparency and reduce the complexity simply by changing the \"naming\". "
   ]
  },
  {
   "cell_type": "code",
   "execution_count": 51,
   "id": "173816c8-805c-4e68-96fc-63f2fd83aa31",
   "metadata": {},
   "outputs": [
    {
     "name": "stdout",
     "output_type": "stream",
     "text": [
      "                                         LeadName\n",
      "SalesRep Country Suffix (follows a \"_\")          \n",
      "Bob      US                                     2\n",
      "Eve      IT                                     1\n",
      "         NZ                                     1\n",
      "James    IT                                     3\n",
      "         US                                     2\n",
      "Tim      ER                                     1\n",
      "         yJ                                     1\n"
     ]
    }
   ],
   "source": [
    "df = pd.read_csv(DATA_FILE_PATH_DAY2)\n",
    "\n",
    "## 1. Let us deduce the \"country_suffix\"\n",
    "df['Country Suffix (follows a \\\"_\\\")'] = df['LeadName'].apply(lambda x: x[-2:])\n",
    "\n",
    "## 2. Let's do the grouping & aggregation\n",
    "print(df.groupby(by=[\"SalesRep\", \"Country Suffix (follows a \\\"_\\\")\"]).count())"
   ]
  },
  {
   "cell_type": "markdown",
   "id": "8d5ec6b5-3dfa-4bc2-8ec8-f02aa93de067",
   "metadata": {},
   "source": [
    "**Let's fix the problem again**: This time, it takes John almost no time to deduce the problem, as the data display\n",
    "is pretty clearn. In fact, Tim might notice it himself and simply fix his problem on the CRM systems side.\n",
    "\n",
    "Still, we're going to fix this..."
   ]
  },
  {
   "cell_type": "code",
   "execution_count": 59,
   "id": "787fbce5-24a4-4732-b429-906aa866f115",
   "metadata": {},
   "outputs": [
    {
     "name": "stdout",
     "output_type": "stream",
     "text": [
      "                                            LeadName\n",
      "SalesRep Country Suffix (follows a \"_\")             \n",
      "Bob      US                                        2\n",
      "Eve      IT                                        1\n",
      "         NZ                                        1\n",
      "James    IT                                        3\n",
      "         US                                        2\n",
      "Tim      GER                                       1\n",
      "         no underscore for suffix detected         1\n"
     ]
    }
   ],
   "source": [
    "df = pd.read_csv(DATA_FILE_PATH_DAY2)\n",
    "\n",
    "## 1. Let us deduce the \"country_suffix\"\n",
    "df['Country Suffix (follows a \\\"_\\\")'] = df['LeadName'].apply(lambda x: x[x.find('_')+1:] if x.find('_') !=-1 else \"no underscore for suffix detected\")\n",
    "\n",
    "## 2. Let' do the grouping & aggregation\n",
    "print(df.groupby(by=[\"SalesRep\", \"Country Suffix (follows a \\\"_\\\")\"]).count())"
   ]
  },
  {
   "cell_type": "markdown",
   "id": "4948786d-448f-47c1-9cb5-eac7e21c3b34",
   "metadata": {},
   "source": [
    "**The Benefits**: It's transparent, easy to fix for endusers as well as devs. Endusers will have more ownership over data they input in \n",
    "the CRM systems.\n",
    "\n",
    "**Follow Up**: Once we go into the next iteration with the \"Country Suffix\" stuff, things will become really complex. In that case,\n",
    "it will make sense to follow up with making \"the transformation logic transparent\" e.g. by using mapping tables and display them to \n",
    "the end user. This will really decouple that logic, making it testable and easy to work on."
   ]
  }
 ],
 "metadata": {
  "kernelspec": {
   "display_name": "Python 3 (ipykernel)",
   "language": "python",
   "name": "python3"
  },
  "language_info": {
   "codemirror_mode": {
    "name": "ipython",
    "version": 3
   },
   "file_extension": ".py",
   "mimetype": "text/x-python",
   "name": "python",
   "nbconvert_exporter": "python",
   "pygments_lexer": "ipython3",
   "version": "3.9.12"
  }
 },
 "nbformat": 4,
 "nbformat_minor": 5
}
